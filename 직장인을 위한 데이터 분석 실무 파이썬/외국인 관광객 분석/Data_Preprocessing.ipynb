{
 "cells": [
  {
   "cell_type": "code",
   "execution_count": 1,
   "metadata": {},
   "outputs": [],
   "source": [
    "import pandas as pd"
   ]
  },
  {
   "cell_type": "code",
   "execution_count": 126,
   "metadata": {},
   "outputs": [],
   "source": [
    "raw_data = pd.read_csv(\"방한 외래관광객(10년-24년).csv\", encoding=\"euc-kr\")"
   ]
  },
  {
   "cell_type": "code",
   "execution_count": 128,
   "metadata": {},
   "outputs": [],
   "source": [
    "raw_data_1 = raw_data.pivot_table(values=\"인원\", index=[\"기준일자\",\"대륙명\",\"국가명\"], columns=\"목적구분\")\n",
    "raw_data_1.reset_index(inplace=True)"
   ]
  },
  {
   "cell_type": "code",
   "execution_count": 129,
   "metadata": {},
   "outputs": [
    {
     "name": "stdout",
     "output_type": "stream",
     "text": [
      "<class 'pandas.core.frame.DataFrame'>\n",
      "RangeIndex: 11764 entries, 0 to 11763\n",
      "Data columns (total 9 columns):\n",
      " #   Column  Non-Null Count  Dtype \n",
      "---  ------  --------------  ----- \n",
      " 0   기준일자    11764 non-null  int64 \n",
      " 1   대륙명     11764 non-null  object\n",
      " 2   국가명     11764 non-null  object\n",
      " 3   공용      11764 non-null  int64 \n",
      " 4   관광      11764 non-null  int64 \n",
      " 5   기타      11764 non-null  int64 \n",
      " 6   상용      11764 non-null  int64 \n",
      " 7   유학연수    11764 non-null  int64 \n",
      " 8   전체      11764 non-null  int64 \n",
      "dtypes: int64(7), object(2)\n",
      "memory usage: 827.3+ KB\n"
     ]
    }
   ],
   "source": [
    "raw_data_1.info()"
   ]
  },
  {
   "cell_type": "code",
   "execution_count": null,
   "metadata": {},
   "outputs": [],
   "source": []
  }
 ],
 "metadata": {
  "kernelspec": {
   "display_name": "base",
   "language": "python",
   "name": "python3"
  },
  "language_info": {
   "codemirror_mode": {
    "name": "ipython",
    "version": 3
   },
   "file_extension": ".py",
   "mimetype": "text/x-python",
   "name": "python",
   "nbconvert_exporter": "python",
   "pygments_lexer": "ipython3",
   "version": "3.11.4"
  }
 },
 "nbformat": 4,
 "nbformat_minor": 2
}
